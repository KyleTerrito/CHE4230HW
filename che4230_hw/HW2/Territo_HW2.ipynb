{
 "cells": [
  {
   "cell_type": "code",
   "execution_count": 85,
   "metadata": {},
   "outputs": [],
   "source": [
    "#### Kyle Territo ####\n",
    "#### Homework  #2 ####"
   ]
  },
  {
   "cell_type": "code",
   "execution_count": 86,
   "metadata": {},
   "outputs": [],
   "source": [
    "import pandas as pd\n",
    "import numpy as np\n",
    "import sklearn \n",
    "from sklearn.model_selection import train_test_split\n",
    "from sklearn.preprocessing import StandardScaler\n",
    "from sklearn.preprocessing import MinMaxScaler\n",
    "from sklearn.decomposition import PCA\n",
    "from sklearn.manifold import TSNE\n",
    "import matplotlib.pyplot as plt"
   ]
  },
  {
   "cell_type": "code",
   "execution_count": 87,
   "metadata": {},
   "outputs": [],
   "source": [
    "#Importing Excel file\n",
    "df = pd.read_excel('Data Plant.xlsx')\n",
    "#print(df)"
   ]
  },
  {
   "cell_type": "code",
   "execution_count": 88,
   "metadata": {},
   "outputs": [
    {
     "data": {
      "text/html": [
       "<div>\n",
       "<style scoped>\n",
       "    .dataframe tbody tr th:only-of-type {\n",
       "        vertical-align: middle;\n",
       "    }\n",
       "\n",
       "    .dataframe tbody tr th {\n",
       "        vertical-align: top;\n",
       "    }\n",
       "\n",
       "    .dataframe thead th {\n",
       "        text-align: right;\n",
       "    }\n",
       "</style>\n",
       "<table border=\"1\" class=\"dataframe\">\n",
       "  <thead>\n",
       "    <tr style=\"text-align: right;\">\n",
       "      <th></th>\n",
       "      <th>39527.250000</th>\n",
       "      <th>27.466360</th>\n",
       "      <th>27.628910</th>\n",
       "      <th>8.822266</th>\n",
       "      <th>5.396484</th>\n",
       "      <th>1691.651001</th>\n",
       "      <th>7.366691</th>\n",
       "      <th>78.552643</th>\n",
       "      <th>13.514650</th>\n",
       "      <th>36.843750</th>\n",
       "      <th>...</th>\n",
       "      <th>3.066406</th>\n",
       "      <th>55.951462</th>\n",
       "      <th>71.275284</th>\n",
       "      <th>30.659370</th>\n",
       "      <th>30.592581</th>\n",
       "      <th>375845.312500</th>\n",
       "      <th>45.991550</th>\n",
       "      <th>3.265625</th>\n",
       "      <th>2.267400</th>\n",
       "      <th>1.721600</th>\n",
       "    </tr>\n",
       "  </thead>\n",
       "  <tbody>\n",
       "    <tr>\n",
       "      <th>count</th>\n",
       "      <td>7199.000000</td>\n",
       "      <td>7198.000000</td>\n",
       "      <td>7198.000000</td>\n",
       "      <td>7199.000000</td>\n",
       "      <td>7199.000000</td>\n",
       "      <td>7199.000000</td>\n",
       "      <td>7199.000000</td>\n",
       "      <td>7199.000000</td>\n",
       "      <td>7199.000000</td>\n",
       "      <td>7199.000000</td>\n",
       "      <td>...</td>\n",
       "      <td>7199.000000</td>\n",
       "      <td>7198.000000</td>\n",
       "      <td>7199.000000</td>\n",
       "      <td>7199.000000</td>\n",
       "      <td>7198.000000</td>\n",
       "      <td>7199.000000</td>\n",
       "      <td>7199.000000</td>\n",
       "      <td>7199.000000</td>\n",
       "      <td>7198.000000</td>\n",
       "      <td>7197.000000</td>\n",
       "    </tr>\n",
       "    <tr>\n",
       "      <th>mean</th>\n",
       "      <td>39534.750000</td>\n",
       "      <td>27.127295</td>\n",
       "      <td>27.953209</td>\n",
       "      <td>9.593198</td>\n",
       "      <td>6.395699</td>\n",
       "      <td>1701.915367</td>\n",
       "      <td>11.555007</td>\n",
       "      <td>76.332696</td>\n",
       "      <td>18.356032</td>\n",
       "      <td>37.815861</td>\n",
       "      <td>...</td>\n",
       "      <td>3.620778</td>\n",
       "      <td>52.985809</td>\n",
       "      <td>70.771369</td>\n",
       "      <td>30.648593</td>\n",
       "      <td>30.609367</td>\n",
       "      <td>386035.274322</td>\n",
       "      <td>45.167884</td>\n",
       "      <td>3.841032</td>\n",
       "      <td>2.114043</td>\n",
       "      <td>0.692348</td>\n",
       "    </tr>\n",
       "    <tr>\n",
       "      <th>std</th>\n",
       "      <td>4.329826</td>\n",
       "      <td>0.674680</td>\n",
       "      <td>0.698533</td>\n",
       "      <td>0.630545</td>\n",
       "      <td>0.952640</td>\n",
       "      <td>99.738546</td>\n",
       "      <td>2.901431</td>\n",
       "      <td>3.595688</td>\n",
       "      <td>3.648891</td>\n",
       "      <td>1.768092</td>\n",
       "      <td>...</td>\n",
       "      <td>0.623456</td>\n",
       "      <td>1.915064</td>\n",
       "      <td>1.725054</td>\n",
       "      <td>0.192165</td>\n",
       "      <td>0.194832</td>\n",
       "      <td>18811.255389</td>\n",
       "      <td>14.682053</td>\n",
       "      <td>0.619553</td>\n",
       "      <td>0.637675</td>\n",
       "      <td>17.474702</td>\n",
       "    </tr>\n",
       "    <tr>\n",
       "      <th>min</th>\n",
       "      <td>39527.252083</td>\n",
       "      <td>24.231501</td>\n",
       "      <td>24.593750</td>\n",
       "      <td>7.673828</td>\n",
       "      <td>4.951172</td>\n",
       "      <td>687.060486</td>\n",
       "      <td>6.780738</td>\n",
       "      <td>18.643391</td>\n",
       "      <td>8.441406</td>\n",
       "      <td>35.882809</td>\n",
       "      <td>...</td>\n",
       "      <td>2.455078</td>\n",
       "      <td>47.744381</td>\n",
       "      <td>0.000000</td>\n",
       "      <td>29.974609</td>\n",
       "      <td>30.035160</td>\n",
       "      <td>236985.406250</td>\n",
       "      <td>12.223560</td>\n",
       "      <td>0.000000</td>\n",
       "      <td>-8.956800</td>\n",
       "      <td>-320.799988</td>\n",
       "    </tr>\n",
       "    <tr>\n",
       "      <th>25%</th>\n",
       "      <td>39531.001042</td>\n",
       "      <td>26.652867</td>\n",
       "      <td>27.507811</td>\n",
       "      <td>9.191404</td>\n",
       "      <td>5.640625</td>\n",
       "      <td>1659.447998</td>\n",
       "      <td>9.108021</td>\n",
       "      <td>74.057091</td>\n",
       "      <td>15.921870</td>\n",
       "      <td>37.166019</td>\n",
       "      <td>...</td>\n",
       "      <td>3.158203</td>\n",
       "      <td>51.530783</td>\n",
       "      <td>71.275284</td>\n",
       "      <td>30.534136</td>\n",
       "      <td>30.497549</td>\n",
       "      <td>375581.046875</td>\n",
       "      <td>38.216480</td>\n",
       "      <td>3.388672</td>\n",
       "      <td>1.930599</td>\n",
       "      <td>1.390500</td>\n",
       "    </tr>\n",
       "    <tr>\n",
       "      <th>50%</th>\n",
       "      <td>39534.750000</td>\n",
       "      <td>27.109890</td>\n",
       "      <td>27.906250</td>\n",
       "      <td>9.570802</td>\n",
       "      <td>6.177734</td>\n",
       "      <td>1697.920044</td>\n",
       "      <td>11.137910</td>\n",
       "      <td>76.542381</td>\n",
       "      <td>19.292971</td>\n",
       "      <td>37.535160</td>\n",
       "      <td>...</td>\n",
       "      <td>3.511719</td>\n",
       "      <td>53.136414</td>\n",
       "      <td>71.275284</td>\n",
       "      <td>30.603519</td>\n",
       "      <td>30.573830</td>\n",
       "      <td>386836.500000</td>\n",
       "      <td>47.806690</td>\n",
       "      <td>3.737500</td>\n",
       "      <td>2.160500</td>\n",
       "      <td>1.642300</td>\n",
       "    </tr>\n",
       "    <tr>\n",
       "      <th>75%</th>\n",
       "      <td>39538.498958</td>\n",
       "      <td>27.518567</td>\n",
       "      <td>28.394529</td>\n",
       "      <td>9.923826</td>\n",
       "      <td>6.958984</td>\n",
       "      <td>1751.557495</td>\n",
       "      <td>13.789635</td>\n",
       "      <td>78.800842</td>\n",
       "      <td>21.316410</td>\n",
       "      <td>37.904301</td>\n",
       "      <td>...</td>\n",
       "      <td>4.030078</td>\n",
       "      <td>54.495871</td>\n",
       "      <td>71.275284</td>\n",
       "      <td>30.724609</td>\n",
       "      <td>30.679689</td>\n",
       "      <td>397080.296875</td>\n",
       "      <td>55.019815</td>\n",
       "      <td>4.246094</td>\n",
       "      <td>2.328500</td>\n",
       "      <td>1.789600</td>\n",
       "    </tr>\n",
       "    <tr>\n",
       "      <th>max</th>\n",
       "      <td>39542.247917</td>\n",
       "      <td>47.017712</td>\n",
       "      <td>42.443359</td>\n",
       "      <td>17.277340</td>\n",
       "      <td>19.515141</td>\n",
       "      <td>2235.039062</td>\n",
       "      <td>26.766680</td>\n",
       "      <td>84.796471</td>\n",
       "      <td>29.253910</td>\n",
       "      <td>64.715332</td>\n",
       "      <td>...</td>\n",
       "      <td>15.594240</td>\n",
       "      <td>57.336620</td>\n",
       "      <td>71.275284</td>\n",
       "      <td>31.686710</td>\n",
       "      <td>31.644920</td>\n",
       "      <td>643457.375000</td>\n",
       "      <td>90.493187</td>\n",
       "      <td>14.015130</td>\n",
       "      <td>4.172300</td>\n",
       "      <td>135.899994</td>\n",
       "    </tr>\n",
       "  </tbody>\n",
       "</table>\n",
       "<p>8 rows × 27 columns</p>\n",
       "</div>"
      ],
      "text/plain": [
       "       39527.250000   27.466360      27.628910      8.822266       \\\n",
       "count    7199.000000    7198.000000    7198.000000    7199.000000   \n",
       "mean    39534.750000      27.127295      27.953209       9.593198   \n",
       "std         4.329826       0.674680       0.698533       0.630545   \n",
       "min     39527.252083      24.231501      24.593750       7.673828   \n",
       "25%     39531.001042      26.652867      27.507811       9.191404   \n",
       "50%     39534.750000      27.109890      27.906250       9.570802   \n",
       "75%     39538.498958      27.518567      28.394529       9.923826   \n",
       "max     39542.247917      47.017712      42.443359      17.277340   \n",
       "\n",
       "       5.396484       1691.651001    7.366691       78.552643      \\\n",
       "count    7199.000000    7199.000000    7199.000000    7199.000000   \n",
       "mean        6.395699    1701.915367      11.555007      76.332696   \n",
       "std         0.952640      99.738546       2.901431       3.595688   \n",
       "min         4.951172     687.060486       6.780738      18.643391   \n",
       "25%         5.640625    1659.447998       9.108021      74.057091   \n",
       "50%         6.177734    1697.920044      11.137910      76.542381   \n",
       "75%         6.958984    1751.557495      13.789635      78.800842   \n",
       "max        19.515141    2235.039062      26.766680      84.796471   \n",
       "\n",
       "       13.514650      36.843750      ...  3.066406       55.951462      \\\n",
       "count    7199.000000    7199.000000  ...    7199.000000    7198.000000   \n",
       "mean       18.356032      37.815861  ...       3.620778      52.985809   \n",
       "std         3.648891       1.768092  ...       0.623456       1.915064   \n",
       "min         8.441406      35.882809  ...       2.455078      47.744381   \n",
       "25%        15.921870      37.166019  ...       3.158203      51.530783   \n",
       "50%        19.292971      37.535160  ...       3.511719      53.136414   \n",
       "75%        21.316410      37.904301  ...       4.030078      54.495871   \n",
       "max        29.253910      64.715332  ...      15.594240      57.336620   \n",
       "\n",
       "       71.275284      30.659370      30.592581      375845.312500  \\\n",
       "count    7199.000000    7199.000000    7198.000000    7199.000000   \n",
       "mean       70.771369      30.648593      30.609367  386035.274322   \n",
       "std         1.725054       0.192165       0.194832   18811.255389   \n",
       "min         0.000000      29.974609      30.035160  236985.406250   \n",
       "25%        71.275284      30.534136      30.497549  375581.046875   \n",
       "50%        71.275284      30.603519      30.573830  386836.500000   \n",
       "75%        71.275284      30.724609      30.679689  397080.296875   \n",
       "max        71.275284      31.686710      31.644920  643457.375000   \n",
       "\n",
       "       45.991550      3.265625       2.267400       1.721600       \n",
       "count    7199.000000    7199.000000    7198.000000    7197.000000  \n",
       "mean       45.167884       3.841032       2.114043       0.692348  \n",
       "std        14.682053       0.619553       0.637675      17.474702  \n",
       "min        12.223560       0.000000      -8.956800    -320.799988  \n",
       "25%        38.216480       3.388672       1.930599       1.390500  \n",
       "50%        47.806690       3.737500       2.160500       1.642300  \n",
       "75%        55.019815       4.246094       2.328500       1.789600  \n",
       "max        90.493187      14.015130       4.172300     135.899994  \n",
       "\n",
       "[8 rows x 27 columns]"
      ]
     },
     "execution_count": 88,
     "metadata": {},
     "output_type": "execute_result"
    }
   ],
   "source": [
    "#Describing the data\n",
    "df.describe()"
   ]
  },
  {
   "cell_type": "code",
   "execution_count": 89,
   "metadata": {},
   "outputs": [
    {
     "data": {
      "text/plain": [
       "(7199, 27)"
      ]
     },
     "execution_count": 89,
     "metadata": {},
     "output_type": "execute_result"
    }
   ],
   "source": [
    "#Sizing the data frame\n",
    "df.shape"
   ]
  },
  {
   "cell_type": "code",
   "execution_count": 90,
   "metadata": {},
   "outputs": [
    {
     "data": {
      "text/plain": [
       "11"
      ]
     },
     "execution_count": 90,
     "metadata": {},
     "output_type": "execute_result"
    }
   ],
   "source": [
    "#Looking for empty cells\n",
    "df.isnull().sum().sum()"
   ]
  },
  {
   "cell_type": "code",
   "execution_count": 91,
   "metadata": {},
   "outputs": [],
   "source": [
    "#Replacing empty cells with mean value\n",
    "df_mean = df.fillna(df.mean(), inplace= True)"
   ]
  },
  {
   "cell_type": "code",
   "execution_count": 92,
   "metadata": {},
   "outputs": [
    {
     "data": {
      "text/plain": [
       "0"
      ]
     },
     "execution_count": 92,
     "metadata": {},
     "output_type": "execute_result"
    }
   ],
   "source": [
    "#Double checking that replacements were successful\n",
    "df.isnull().sum().sum()"
   ]
  },
  {
   "cell_type": "code",
   "execution_count": 93,
   "metadata": {},
   "outputs": [],
   "source": [
    "#df.head(10)"
   ]
  },
  {
   "cell_type": "code",
   "execution_count": 94,
   "metadata": {},
   "outputs": [],
   "source": [
    "#Splitting data\n",
    "x_train, x_test = train_test_split(df, test_size = 0.15, random_state=42)\n",
    "x_train2, x_val = train_test_split(x_train, test_size = 0.15, random_state=42)"
   ]
  },
  {
   "cell_type": "code",
   "execution_count": 95,
   "metadata": {},
   "outputs": [
    {
     "name": "stdout",
     "output_type": "stream",
     "text": [
      "5201\n",
      "1080\n",
      "918\n"
     ]
    }
   ],
   "source": [
    "#Printing lenghts of data split\n",
    "#... for some reason not a perfect split\n",
    "print(len(x_train2))\n",
    "print(len(x_test))\n",
    "print(len(x_val))"
   ]
  },
  {
   "cell_type": "code",
   "execution_count": 96,
   "metadata": {},
   "outputs": [
    {
     "name": "stderr",
     "output_type": "stream",
     "text": [
      "c:\\Users\\kterri3\\Anaconda3\\lib\\site-packages\\sklearn\\utils\\validation.py:1688: FutureWarning: Feature names only support names that are all strings. Got feature names with dtypes: ['float']. An error will be raised in 1.2.\n",
      "  warnings.warn(\n",
      "c:\\Users\\kterri3\\Anaconda3\\lib\\site-packages\\sklearn\\utils\\validation.py:1688: FutureWarning: Feature names only support names that are all strings. Got feature names with dtypes: ['float']. An error will be raised in 1.2.\n",
      "  warnings.warn(\n"
     ]
    },
    {
     "data": {
      "text/plain": [
       "array([[ 1.23529493e+00, -1.48480251e-01, -2.95567064e-01, ...,\n",
       "         1.74895159e-01,  5.44527287e-01,  1.20354690e-03],\n",
       "       [-9.26570917e-01,  2.50724342e-01,  8.06140654e-01, ...,\n",
       "        -1.42912563e-01,  1.08242816e-01,  3.81010449e-02],\n",
       "       [-1.38858243e-01,  4.58450901e-02,  2.58197104e-01, ...,\n",
       "        -1.05858087e+00,  3.22088448e-01,  6.19891216e-02],\n",
       "       ...,\n",
       "       [-7.34952086e-01, -6.83892991e-01, -3.17429247e-01, ...,\n",
       "         1.85519197e+00,  1.09948892e+00,  4.04940141e-02],\n",
       "       [-5.87738627e-01, -1.28867778e-02, -1.55667310e-01, ...,\n",
       "        -9.10689228e-01, -2.24118208e-01,  6.53323429e-02],\n",
       "       [ 8.05238566e-01,  1.55065943e+00,  1.58141846e+00, ...,\n",
       "        -1.00823491e+00, -1.91257663e+00,  2.90771232e-02]])"
      ]
     },
     "execution_count": 96,
     "metadata": {},
     "output_type": "execute_result"
    }
   ],
   "source": [
    "#Normalizing the data set\n",
    "scaler = StandardScaler().fit(x_train2)\n",
    "df_scaled = scaler.transform(x_train2)\n",
    "df_scaled"
   ]
  },
  {
   "cell_type": "code",
   "execution_count": 97,
   "metadata": {},
   "outputs": [
    {
     "name": "stderr",
     "output_type": "stream",
     "text": [
      "C:\\Users\\kterri3\\AppData\\Local\\Temp\\ipykernel_9956\\2800859584.py:3: RuntimeWarning: invalid value encountered in log\n",
      "  return np.log(x + 1)\n"
     ]
    },
    {
     "data": {
      "text/plain": [
       "array([[ 8.04373181e-01, -1.60732587e-01, -3.50362146e-01, ...,\n",
       "         1.61178918e-01,  4.34717900e-01,  1.20282322e-03],\n",
       "       [-2.61143519e+00,  2.23722857e-01,  5.91192334e-01, ...,\n",
       "        -1.54215339e-01,  1.02775712e-01,  3.73931258e-02],\n",
       "       [-1.49496145e-01,  4.48252572e-02,  2.29679826e-01, ...,\n",
       "                    nan,  2.79212644e-01,  6.01436794e-02],\n",
       "       ...,\n",
       "       [-1.32784466e+00, -1.15167449e+00, -3.81889090e-01, ...,\n",
       "         1.04913908e+00,  7.41693942e-01,  3.96956140e-02],\n",
       "       [-8.86097730e-01, -1.29705327e-02, -1.69208680e-01, ...,\n",
       "        -2.41563317e+00, -2.53755101e-01,  6.32868095e-02],\n",
       "       [ 5.90692752e-01,  9.36351924e-01,  9.48339038e-01, ...,\n",
       "                    nan,             nan,  2.86624037e-02]])"
      ]
     },
     "execution_count": 97,
     "metadata": {},
     "output_type": "execute_result"
    }
   ],
   "source": [
    "#Transforming the data set to logarithmic\n",
    "def log_transform(x):\n",
    "    return np.log(x + 1)\n",
    "\n",
    "df_log = log_transform(df_scaled)\n",
    "df_log"
   ]
  },
  {
   "cell_type": "code",
   "execution_count": 98,
   "metadata": {},
   "outputs": [
    {
     "data": {
      "text/plain": [
       "array([[ 1.5039946 , -4.35377844],\n",
       "       [ 0.22268217,  0.62310545],\n",
       "       [-2.59949279,  0.02921552],\n",
       "       ...,\n",
       "       [ 2.6172706 ,  4.35527319],\n",
       "       [-0.33821788,  1.11531801],\n",
       "       [ 0.164476  , -5.72882314]])"
      ]
     },
     "execution_count": 98,
     "metadata": {},
     "output_type": "execute_result"
    }
   ],
   "source": [
    "#2-D projection using the first two PCs\n",
    "DPCA = PCA(n_components=2)\n",
    "df_pca = DPCA.fit_transform(df_scaled)\n",
    "df_pca"
   ]
  },
  {
   "cell_type": "code",
   "execution_count": 99,
   "metadata": {},
   "outputs": [
    {
     "data": {
      "text/plain": [
       "Text(0.5, 1.0, 'Principal Component Analysis')"
      ]
     },
     "execution_count": 99,
     "metadata": {},
     "output_type": "execute_result"
    },
    {
     "data": {
      "image/png": "[encoded data removed]",
      "text/plain": [
       "<Figure size 640x480 with 1 Axes>"
      ]
     },
     "metadata": {},
     "output_type": "display_data"
    }
   ],
   "source": [
    "#Plotting PCA results\n",
    "plt.scatter(df_pca[:,0], df_pca[:,1])\n",
    "plt.title(\"Principal Component Analysis\")"
   ]
  },
  {
   "cell_type": "code",
   "execution_count": 100,
   "metadata": {},
   "outputs": [
    {
     "data": {
      "image/png": "[encoded data removed]",
      "text/plain": [
       "<Figure size 640x480 with 1 Axes>"
      ]
     },
     "metadata": {},
     "output_type": "display_data"
    }
   ],
   "source": [
    "features = range(DPCA.n_components_)\n",
    "plt.bar(features, DPCA.explained_variance_ratio_, color='black')\n",
    "plt.title(\"Data Plant\")\n",
    "plt.xlabel('PCA features')\n",
    "plt.ylabel('variance %')\n",
    "plt.xticks(features)\n",
    "plt.show()"
   ]
  }
 ],
 "metadata": {
  "kernelspec": {
   "display_name": "base",
   "language": "python",
   "name": "python3"
  },
  "language_info": {
   "codemirror_mode": {
    "name": "ipython",
    "version": 3
   },
   "file_extension": ".py",
   "mimetype": "text/x-python",
   "name": "python",
   "nbconvert_exporter": "python",
   "pygments_lexer": "ipython3",
   "version": "3.9.13"
  },
  "orig_nbformat": 4,
  "vscode": {
   "interpreter": {
    "hash": "6b48c8de604285ca86acfb6936ec1940b9dab016195eb3527ee94ac8845a3a0d"
   }
  }
 },
 "nbformat": 4,
 "nbformat_minor": 2
}
