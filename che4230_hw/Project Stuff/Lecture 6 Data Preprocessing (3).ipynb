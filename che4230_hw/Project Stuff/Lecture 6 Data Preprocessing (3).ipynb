{
 "cells": [
  {
   "cell_type": "code",
   "execution_count": 1,
   "id": "5ad63c35",
   "metadata": {},
   "outputs": [],
   "source": [
    "#Import Packages\n",
    "import numpy as np\n",
    "import pandas as pd\n",
    "import sklearn\n",
    "from sklearn.model_selection import train_test_split\n",
    "from sklearn.preprocessing import StandardScaler\n",
    "from sklearn.preprocessing import MinMaxScaler\n",
    "from sklearn.decomposition import PCA\n",
    "from sklearn.manifold import TSNE\n",
    "import umap\n",
    "import matplotlib.pyplot as plt"
   ]
  },
  {
   "cell_type": "code",
   "execution_count": 2,
   "id": "29ebef36",
   "metadata": {},
   "outputs": [],
   "source": [
    "# Load data\n",
    "# Solution\n",
    "# UTF Encoding\n",
    "df = pd.read_csv(\"new_Kolodziejczyk_raw_data.csv\",encoding='latin1')"
   ]
  },
  {
   "cell_type": "code",
   "execution_count": 3,
   "id": "bedc88d1",
   "metadata": {},
   "outputs": [
    {
     "data": {
      "text/html": [
       "<div>\n",
       "<style scoped>\n",
       "    .dataframe tbody tr th:only-of-type {\n",
       "        vertical-align: middle;\n",
       "    }\n",
       "\n",
       "    .dataframe tbody tr th {\n",
       "        vertical-align: top;\n",
       "    }\n",
       "\n",
       "    .dataframe thead th {\n",
       "        text-align: right;\n",
       "    }\n",
       "</style>\n",
       "<table border=\"1\" class=\"dataframe\">\n",
       "  <thead>\n",
       "    <tr style=\"text-align: right;\">\n",
       "      <th></th>\n",
       "      <th>ola_mES_2i_2_10.counts</th>\n",
       "      <th>ola_mES_2i_2_11.counts</th>\n",
       "      <th>ola_mES_2i_2_12.counts</th>\n",
       "      <th>ola_mES_2i_2_13.counts</th>\n",
       "      <th>ola_mES_2i_2_14.counts</th>\n",
       "      <th>ola_mES_2i_2_15.counts</th>\n",
       "      <th>ola_mES_2i_2_16.counts</th>\n",
       "      <th>ola_mES_2i_2_17.counts</th>\n",
       "      <th>ola_mES_2i_2_18.counts</th>\n",
       "      <th>ola_mES_2i_2_19.counts</th>\n",
       "      <th>...</th>\n",
       "      <th>ola_mES_lif_3_87.counts</th>\n",
       "      <th>ola_mES_lif_3_88.counts</th>\n",
       "      <th>ola_mES_lif_3_89.counts</th>\n",
       "      <th>ola_mES_lif_3_9.counts</th>\n",
       "      <th>ola_mES_lif_3_90.counts</th>\n",
       "      <th>ola_mES_lif_3_92.counts</th>\n",
       "      <th>ola_mES_lif_3_94.counts</th>\n",
       "      <th>ola_mES_lif_3_95.counts</th>\n",
       "      <th>ola_mES_lif_3_96.counts</th>\n",
       "      <th>Unnamed: 703</th>\n",
       "    </tr>\n",
       "  </thead>\n",
       "  <tbody>\n",
       "    <tr>\n",
       "      <th>0</th>\n",
       "      <td>272</td>\n",
       "      <td>368</td>\n",
       "      <td>1431</td>\n",
       "      <td>2249</td>\n",
       "      <td>385</td>\n",
       "      <td>1053</td>\n",
       "      <td>1424</td>\n",
       "      <td>1117</td>\n",
       "      <td>991</td>\n",
       "      <td>530</td>\n",
       "      <td>...</td>\n",
       "      <td>211</td>\n",
       "      <td>251</td>\n",
       "      <td>71</td>\n",
       "      <td>40</td>\n",
       "      <td>620</td>\n",
       "      <td>1235</td>\n",
       "      <td>255</td>\n",
       "      <td>1142</td>\n",
       "      <td>644</td>\n",
       "      <td>278</td>\n",
       "    </tr>\n",
       "    <tr>\n",
       "      <th>1</th>\n",
       "      <td>0</td>\n",
       "      <td>0</td>\n",
       "      <td>0</td>\n",
       "      <td>0</td>\n",
       "      <td>0</td>\n",
       "      <td>0</td>\n",
       "      <td>0</td>\n",
       "      <td>0</td>\n",
       "      <td>0</td>\n",
       "      <td>0</td>\n",
       "      <td>...</td>\n",
       "      <td>0</td>\n",
       "      <td>0</td>\n",
       "      <td>0</td>\n",
       "      <td>0</td>\n",
       "      <td>0</td>\n",
       "      <td>0</td>\n",
       "      <td>0</td>\n",
       "      <td>0</td>\n",
       "      <td>0</td>\n",
       "      <td>0</td>\n",
       "    </tr>\n",
       "    <tr>\n",
       "      <th>2</th>\n",
       "      <td>271</td>\n",
       "      <td>983</td>\n",
       "      <td>1248</td>\n",
       "      <td>971</td>\n",
       "      <td>1149</td>\n",
       "      <td>432</td>\n",
       "      <td>2406</td>\n",
       "      <td>863</td>\n",
       "      <td>179</td>\n",
       "      <td>888</td>\n",
       "      <td>...</td>\n",
       "      <td>91</td>\n",
       "      <td>175</td>\n",
       "      <td>11</td>\n",
       "      <td>55</td>\n",
       "      <td>228</td>\n",
       "      <td>122</td>\n",
       "      <td>126</td>\n",
       "      <td>60</td>\n",
       "      <td>161</td>\n",
       "      <td>39</td>\n",
       "    </tr>\n",
       "    <tr>\n",
       "      <th>3</th>\n",
       "      <td>0</td>\n",
       "      <td>0</td>\n",
       "      <td>0</td>\n",
       "      <td>0</td>\n",
       "      <td>0</td>\n",
       "      <td>0</td>\n",
       "      <td>0</td>\n",
       "      <td>0</td>\n",
       "      <td>0</td>\n",
       "      <td>0</td>\n",
       "      <td>...</td>\n",
       "      <td>1</td>\n",
       "      <td>1</td>\n",
       "      <td>469</td>\n",
       "      <td>32</td>\n",
       "      <td>3</td>\n",
       "      <td>1729</td>\n",
       "      <td>55</td>\n",
       "      <td>0</td>\n",
       "      <td>25</td>\n",
       "      <td>214</td>\n",
       "    </tr>\n",
       "    <tr>\n",
       "      <th>4</th>\n",
       "      <td>0</td>\n",
       "      <td>0</td>\n",
       "      <td>0</td>\n",
       "      <td>0</td>\n",
       "      <td>0</td>\n",
       "      <td>0</td>\n",
       "      <td>0</td>\n",
       "      <td>0</td>\n",
       "      <td>0</td>\n",
       "      <td>0</td>\n",
       "      <td>...</td>\n",
       "      <td>0</td>\n",
       "      <td>0</td>\n",
       "      <td>0</td>\n",
       "      <td>0</td>\n",
       "      <td>0</td>\n",
       "      <td>0</td>\n",
       "      <td>0</td>\n",
       "      <td>0</td>\n",
       "      <td>0</td>\n",
       "      <td>0</td>\n",
       "    </tr>\n",
       "    <tr>\n",
       "      <th>5</th>\n",
       "      <td>0</td>\n",
       "      <td>0</td>\n",
       "      <td>0</td>\n",
       "      <td>0</td>\n",
       "      <td>0</td>\n",
       "      <td>0</td>\n",
       "      <td>0</td>\n",
       "      <td>0</td>\n",
       "      <td>0</td>\n",
       "      <td>0</td>\n",
       "      <td>...</td>\n",
       "      <td>0</td>\n",
       "      <td>0</td>\n",
       "      <td>0</td>\n",
       "      <td>0</td>\n",
       "      <td>0</td>\n",
       "      <td>0</td>\n",
       "      <td>0</td>\n",
       "      <td>0</td>\n",
       "      <td>0</td>\n",
       "      <td>0</td>\n",
       "    </tr>\n",
       "    <tr>\n",
       "      <th>6</th>\n",
       "      <td>16</td>\n",
       "      <td>0</td>\n",
       "      <td>0</td>\n",
       "      <td>0</td>\n",
       "      <td>0</td>\n",
       "      <td>0</td>\n",
       "      <td>0</td>\n",
       "      <td>99</td>\n",
       "      <td>0</td>\n",
       "      <td>16</td>\n",
       "      <td>...</td>\n",
       "      <td>0</td>\n",
       "      <td>0</td>\n",
       "      <td>6</td>\n",
       "      <td>0</td>\n",
       "      <td>144</td>\n",
       "      <td>1</td>\n",
       "      <td>32</td>\n",
       "      <td>0</td>\n",
       "      <td>0</td>\n",
       "      <td>0</td>\n",
       "    </tr>\n",
       "    <tr>\n",
       "      <th>7</th>\n",
       "      <td>0</td>\n",
       "      <td>0</td>\n",
       "      <td>0</td>\n",
       "      <td>0</td>\n",
       "      <td>0</td>\n",
       "      <td>0</td>\n",
       "      <td>0</td>\n",
       "      <td>0</td>\n",
       "      <td>0</td>\n",
       "      <td>0</td>\n",
       "      <td>...</td>\n",
       "      <td>0</td>\n",
       "      <td>0</td>\n",
       "      <td>1</td>\n",
       "      <td>0</td>\n",
       "      <td>0</td>\n",
       "      <td>616</td>\n",
       "      <td>0</td>\n",
       "      <td>0</td>\n",
       "      <td>0</td>\n",
       "      <td>1</td>\n",
       "    </tr>\n",
       "    <tr>\n",
       "      <th>8</th>\n",
       "      <td>517</td>\n",
       "      <td>1588</td>\n",
       "      <td>857</td>\n",
       "      <td>73</td>\n",
       "      <td>488</td>\n",
       "      <td>527</td>\n",
       "      <td>93</td>\n",
       "      <td>427</td>\n",
       "      <td>85</td>\n",
       "      <td>196</td>\n",
       "      <td>...</td>\n",
       "      <td>198</td>\n",
       "      <td>181</td>\n",
       "      <td>350</td>\n",
       "      <td>31</td>\n",
       "      <td>17</td>\n",
       "      <td>3647</td>\n",
       "      <td>614</td>\n",
       "      <td>1204</td>\n",
       "      <td>280</td>\n",
       "      <td>63</td>\n",
       "    </tr>\n",
       "    <tr>\n",
       "      <th>9</th>\n",
       "      <td>0</td>\n",
       "      <td>1</td>\n",
       "      <td>637</td>\n",
       "      <td>0</td>\n",
       "      <td>7</td>\n",
       "      <td>424</td>\n",
       "      <td>332</td>\n",
       "      <td>0</td>\n",
       "      <td>0</td>\n",
       "      <td>2</td>\n",
       "      <td>...</td>\n",
       "      <td>5</td>\n",
       "      <td>175</td>\n",
       "      <td>1</td>\n",
       "      <td>89</td>\n",
       "      <td>101</td>\n",
       "      <td>339</td>\n",
       "      <td>11</td>\n",
       "      <td>5</td>\n",
       "      <td>0</td>\n",
       "      <td>141</td>\n",
       "    </tr>\n",
       "  </tbody>\n",
       "</table>\n",
       "<p>10 rows × 704 columns</p>\n",
       "</div>"
      ],
      "text/plain": [
       "   ola_mES_2i_2_10.counts  ola_mES_2i_2_11.counts  ola_mES_2i_2_12.counts  \\\n",
       "0                     272                     368                    1431   \n",
       "1                       0                       0                       0   \n",
       "2                     271                     983                    1248   \n",
       "3                       0                       0                       0   \n",
       "4                       0                       0                       0   \n",
       "5                       0                       0                       0   \n",
       "6                      16                       0                       0   \n",
       "7                       0                       0                       0   \n",
       "8                     517                    1588                     857   \n",
       "9                       0                       1                     637   \n",
       "\n",
       "   ola_mES_2i_2_13.counts  ola_mES_2i_2_14.counts  ola_mES_2i_2_15.counts  \\\n",
       "0                    2249                     385                    1053   \n",
       "1                       0                       0                       0   \n",
       "2                     971                    1149                     432   \n",
       "3                       0                       0                       0   \n",
       "4                       0                       0                       0   \n",
       "5                       0                       0                       0   \n",
       "6                       0                       0                       0   \n",
       "7                       0                       0                       0   \n",
       "8                      73                     488                     527   \n",
       "9                       0                       7                     424   \n",
       "\n",
       "   ola_mES_2i_2_16.counts  ola_mES_2i_2_17.counts  ola_mES_2i_2_18.counts  \\\n",
       "0                    1424                    1117                     991   \n",
       "1                       0                       0                       0   \n",
       "2                    2406                     863                     179   \n",
       "3                       0                       0                       0   \n",
       "4                       0                       0                       0   \n",
       "5                       0                       0                       0   \n",
       "6                       0                      99                       0   \n",
       "7                       0                       0                       0   \n",
       "8                      93                     427                      85   \n",
       "9                     332                       0                       0   \n",
       "\n",
       "   ola_mES_2i_2_19.counts  ...  ola_mES_lif_3_87.counts  \\\n",
       "0                     530  ...                      211   \n",
       "1                       0  ...                        0   \n",
       "2                     888  ...                       91   \n",
       "3                       0  ...                        1   \n",
       "4                       0  ...                        0   \n",
       "5                       0  ...                        0   \n",
       "6                      16  ...                        0   \n",
       "7                       0  ...                        0   \n",
       "8                     196  ...                      198   \n",
       "9                       2  ...                        5   \n",
       "\n",
       "   ola_mES_lif_3_88.counts  ola_mES_lif_3_89.counts  ola_mES_lif_3_9.counts  \\\n",
       "0                      251                       71                      40   \n",
       "1                        0                        0                       0   \n",
       "2                      175                       11                      55   \n",
       "3                        1                      469                      32   \n",
       "4                        0                        0                       0   \n",
       "5                        0                        0                       0   \n",
       "6                        0                        6                       0   \n",
       "7                        0                        1                       0   \n",
       "8                      181                      350                      31   \n",
       "9                      175                        1                      89   \n",
       "\n",
       "   ola_mES_lif_3_90.counts  ola_mES_lif_3_92.counts  ola_mES_lif_3_94.counts  \\\n",
       "0                      620                     1235                      255   \n",
       "1                        0                        0                        0   \n",
       "2                      228                      122                      126   \n",
       "3                        3                     1729                       55   \n",
       "4                        0                        0                        0   \n",
       "5                        0                        0                        0   \n",
       "6                      144                        1                       32   \n",
       "7                        0                      616                        0   \n",
       "8                       17                     3647                      614   \n",
       "9                      101                      339                       11   \n",
       "\n",
       "   ola_mES_lif_3_95.counts  ola_mES_lif_3_96.counts  Unnamed: 703  \n",
       "0                     1142                      644           278  \n",
       "1                        0                        0             0  \n",
       "2                       60                      161            39  \n",
       "3                        0                       25           214  \n",
       "4                        0                        0             0  \n",
       "5                        0                        0             0  \n",
       "6                        0                        0             0  \n",
       "7                        0                        0             1  \n",
       "8                     1204                      280            63  \n",
       "9                        5                        0           141  \n",
       "\n",
       "[10 rows x 704 columns]"
      ]
     },
     "execution_count": 3,
     "metadata": {},
     "output_type": "execute_result"
    }
   ],
   "source": [
    "df.head(10)"
   ]
  },
  {
   "cell_type": "code",
   "execution_count": 4,
   "id": "760472da",
   "metadata": {},
   "outputs": [
    {
     "data": {
      "text/html": [
       "<div>\n",
       "<style scoped>\n",
       "    .dataframe tbody tr th:only-of-type {\n",
       "        vertical-align: middle;\n",
       "    }\n",
       "\n",
       "    .dataframe tbody tr th {\n",
       "        vertical-align: top;\n",
       "    }\n",
       "\n",
       "    .dataframe thead th {\n",
       "        text-align: right;\n",
       "    }\n",
       "</style>\n",
       "<table border=\"1\" class=\"dataframe\">\n",
       "  <thead>\n",
       "    <tr style=\"text-align: right;\">\n",
       "      <th></th>\n",
       "      <th>ola_mES_2i_2_10.counts</th>\n",
       "      <th>ola_mES_2i_2_11.counts</th>\n",
       "      <th>ola_mES_2i_2_12.counts</th>\n",
       "      <th>ola_mES_2i_2_13.counts</th>\n",
       "      <th>ola_mES_2i_2_14.counts</th>\n",
       "      <th>ola_mES_2i_2_15.counts</th>\n",
       "      <th>ola_mES_2i_2_16.counts</th>\n",
       "      <th>ola_mES_2i_2_17.counts</th>\n",
       "      <th>ola_mES_2i_2_18.counts</th>\n",
       "      <th>ola_mES_2i_2_19.counts</th>\n",
       "      <th>...</th>\n",
       "      <th>ola_mES_lif_3_87.counts</th>\n",
       "      <th>ola_mES_lif_3_88.counts</th>\n",
       "      <th>ola_mES_lif_3_89.counts</th>\n",
       "      <th>ola_mES_lif_3_9.counts</th>\n",
       "      <th>ola_mES_lif_3_90.counts</th>\n",
       "      <th>ola_mES_lif_3_92.counts</th>\n",
       "      <th>ola_mES_lif_3_94.counts</th>\n",
       "      <th>ola_mES_lif_3_95.counts</th>\n",
       "      <th>ola_mES_lif_3_96.counts</th>\n",
       "      <th>Unnamed: 703</th>\n",
       "    </tr>\n",
       "  </thead>\n",
       "  <tbody>\n",
       "    <tr>\n",
       "      <th>count</th>\n",
       "      <td>38653.000000</td>\n",
       "      <td>38653.000000</td>\n",
       "      <td>38653.000000</td>\n",
       "      <td>38653.000000</td>\n",
       "      <td>38653.000000</td>\n",
       "      <td>38653.000000</td>\n",
       "      <td>38653.000000</td>\n",
       "      <td>38653.000000</td>\n",
       "      <td>38653.000000</td>\n",
       "      <td>38653.000000</td>\n",
       "      <td>...</td>\n",
       "      <td>38653.000000</td>\n",
       "      <td>38653.000000</td>\n",
       "      <td>38653.000000</td>\n",
       "      <td>38653.000000</td>\n",
       "      <td>38653.000000</td>\n",
       "      <td>38653.000000</td>\n",
       "      <td>38653.000000</td>\n",
       "      <td>38653.000000</td>\n",
       "      <td>38653.000000</td>\n",
       "      <td>38653.000000</td>\n",
       "    </tr>\n",
       "    <tr>\n",
       "      <th>mean</th>\n",
       "      <td>85.117455</td>\n",
       "      <td>160.751248</td>\n",
       "      <td>197.399322</td>\n",
       "      <td>203.287921</td>\n",
       "      <td>119.501074</td>\n",
       "      <td>108.517916</td>\n",
       "      <td>189.463638</td>\n",
       "      <td>120.651256</td>\n",
       "      <td>117.059116</td>\n",
       "      <td>322.376452</td>\n",
       "      <td>...</td>\n",
       "      <td>38.253874</td>\n",
       "      <td>65.910537</td>\n",
       "      <td>72.217111</td>\n",
       "      <td>26.898404</td>\n",
       "      <td>68.519468</td>\n",
       "      <td>145.586837</td>\n",
       "      <td>62.635966</td>\n",
       "      <td>67.288438</td>\n",
       "      <td>62.934339</td>\n",
       "      <td>38.596952</td>\n",
       "    </tr>\n",
       "    <tr>\n",
       "      <th>std</th>\n",
       "      <td>586.271462</td>\n",
       "      <td>1132.187939</td>\n",
       "      <td>1326.173396</td>\n",
       "      <td>1263.101481</td>\n",
       "      <td>820.483474</td>\n",
       "      <td>745.350546</td>\n",
       "      <td>1258.647717</td>\n",
       "      <td>767.086568</td>\n",
       "      <td>780.562152</td>\n",
       "      <td>1941.377895</td>\n",
       "      <td>...</td>\n",
       "      <td>687.462581</td>\n",
       "      <td>1213.745496</td>\n",
       "      <td>1547.943118</td>\n",
       "      <td>562.291736</td>\n",
       "      <td>1575.553172</td>\n",
       "      <td>5168.652556</td>\n",
       "      <td>1228.023589</td>\n",
       "      <td>1645.763639</td>\n",
       "      <td>1317.051799</td>\n",
       "      <td>724.998934</td>\n",
       "    </tr>\n",
       "    <tr>\n",
       "      <th>min</th>\n",
       "      <td>0.000000</td>\n",
       "      <td>0.000000</td>\n",
       "      <td>0.000000</td>\n",
       "      <td>0.000000</td>\n",
       "      <td>0.000000</td>\n",
       "      <td>0.000000</td>\n",
       "      <td>0.000000</td>\n",
       "      <td>0.000000</td>\n",
       "      <td>0.000000</td>\n",
       "      <td>0.000000</td>\n",
       "      <td>...</td>\n",
       "      <td>0.000000</td>\n",
       "      <td>0.000000</td>\n",
       "      <td>0.000000</td>\n",
       "      <td>0.000000</td>\n",
       "      <td>0.000000</td>\n",
       "      <td>0.000000</td>\n",
       "      <td>0.000000</td>\n",
       "      <td>0.000000</td>\n",
       "      <td>0.000000</td>\n",
       "      <td>0.000000</td>\n",
       "    </tr>\n",
       "    <tr>\n",
       "      <th>25%</th>\n",
       "      <td>0.000000</td>\n",
       "      <td>0.000000</td>\n",
       "      <td>0.000000</td>\n",
       "      <td>0.000000</td>\n",
       "      <td>0.000000</td>\n",
       "      <td>0.000000</td>\n",
       "      <td>0.000000</td>\n",
       "      <td>0.000000</td>\n",
       "      <td>0.000000</td>\n",
       "      <td>0.000000</td>\n",
       "      <td>...</td>\n",
       "      <td>0.000000</td>\n",
       "      <td>0.000000</td>\n",
       "      <td>0.000000</td>\n",
       "      <td>0.000000</td>\n",
       "      <td>0.000000</td>\n",
       "      <td>0.000000</td>\n",
       "      <td>0.000000</td>\n",
       "      <td>0.000000</td>\n",
       "      <td>0.000000</td>\n",
       "      <td>0.000000</td>\n",
       "    </tr>\n",
       "    <tr>\n",
       "      <th>50%</th>\n",
       "      <td>0.000000</td>\n",
       "      <td>0.000000</td>\n",
       "      <td>0.000000</td>\n",
       "      <td>0.000000</td>\n",
       "      <td>0.000000</td>\n",
       "      <td>0.000000</td>\n",
       "      <td>0.000000</td>\n",
       "      <td>0.000000</td>\n",
       "      <td>0.000000</td>\n",
       "      <td>0.000000</td>\n",
       "      <td>...</td>\n",
       "      <td>0.000000</td>\n",
       "      <td>0.000000</td>\n",
       "      <td>0.000000</td>\n",
       "      <td>0.000000</td>\n",
       "      <td>0.000000</td>\n",
       "      <td>0.000000</td>\n",
       "      <td>0.000000</td>\n",
       "      <td>0.000000</td>\n",
       "      <td>0.000000</td>\n",
       "      <td>0.000000</td>\n",
       "    </tr>\n",
       "    <tr>\n",
       "      <th>75%</th>\n",
       "      <td>4.000000</td>\n",
       "      <td>5.000000</td>\n",
       "      <td>4.000000</td>\n",
       "      <td>4.000000</td>\n",
       "      <td>3.000000</td>\n",
       "      <td>4.000000</td>\n",
       "      <td>1.000000</td>\n",
       "      <td>6.000000</td>\n",
       "      <td>4.000000</td>\n",
       "      <td>1.000000</td>\n",
       "      <td>...</td>\n",
       "      <td>2.000000</td>\n",
       "      <td>4.000000</td>\n",
       "      <td>2.000000</td>\n",
       "      <td>1.000000</td>\n",
       "      <td>2.000000</td>\n",
       "      <td>0.000000</td>\n",
       "      <td>5.000000</td>\n",
       "      <td>2.000000</td>\n",
       "      <td>4.000000</td>\n",
       "      <td>2.000000</td>\n",
       "    </tr>\n",
       "    <tr>\n",
       "      <th>max</th>\n",
       "      <td>45350.000000</td>\n",
       "      <td>78237.000000</td>\n",
       "      <td>106445.000000</td>\n",
       "      <td>90629.000000</td>\n",
       "      <td>59270.000000</td>\n",
       "      <td>48977.000000</td>\n",
       "      <td>110521.000000</td>\n",
       "      <td>59947.000000</td>\n",
       "      <td>54007.000000</td>\n",
       "      <td>145930.000000</td>\n",
       "      <td>...</td>\n",
       "      <td>80849.000000</td>\n",
       "      <td>145955.000000</td>\n",
       "      <td>187389.000000</td>\n",
       "      <td>68635.000000</td>\n",
       "      <td>219839.000000</td>\n",
       "      <td>622407.000000</td>\n",
       "      <td>147482.000000</td>\n",
       "      <td>195757.000000</td>\n",
       "      <td>159166.000000</td>\n",
       "      <td>86913.000000</td>\n",
       "    </tr>\n",
       "  </tbody>\n",
       "</table>\n",
       "<p>8 rows × 704 columns</p>\n",
       "</div>"
      ],
      "text/plain": [
       "       ola_mES_2i_2_10.counts  ola_mES_2i_2_11.counts  ola_mES_2i_2_12.counts  \\\n",
       "count            38653.000000            38653.000000            38653.000000   \n",
       "mean                85.117455              160.751248              197.399322   \n",
       "std                586.271462             1132.187939             1326.173396   \n",
       "min                  0.000000                0.000000                0.000000   \n",
       "25%                  0.000000                0.000000                0.000000   \n",
       "50%                  0.000000                0.000000                0.000000   \n",
       "75%                  4.000000                5.000000                4.000000   \n",
       "max              45350.000000            78237.000000           106445.000000   \n",
       "\n",
       "       ola_mES_2i_2_13.counts  ola_mES_2i_2_14.counts  ola_mES_2i_2_15.counts  \\\n",
       "count            38653.000000            38653.000000            38653.000000   \n",
       "mean               203.287921              119.501074              108.517916   \n",
       "std               1263.101481              820.483474              745.350546   \n",
       "min                  0.000000                0.000000                0.000000   \n",
       "25%                  0.000000                0.000000                0.000000   \n",
       "50%                  0.000000                0.000000                0.000000   \n",
       "75%                  4.000000                3.000000                4.000000   \n",
       "max              90629.000000            59270.000000            48977.000000   \n",
       "\n",
       "       ola_mES_2i_2_16.counts  ola_mES_2i_2_17.counts  ola_mES_2i_2_18.counts  \\\n",
       "count            38653.000000            38653.000000            38653.000000   \n",
       "mean               189.463638              120.651256              117.059116   \n",
       "std               1258.647717              767.086568              780.562152   \n",
       "min                  0.000000                0.000000                0.000000   \n",
       "25%                  0.000000                0.000000                0.000000   \n",
       "50%                  0.000000                0.000000                0.000000   \n",
       "75%                  1.000000                6.000000                4.000000   \n",
       "max             110521.000000            59947.000000            54007.000000   \n",
       "\n",
       "       ola_mES_2i_2_19.counts  ...  ola_mES_lif_3_87.counts  \\\n",
       "count            38653.000000  ...             38653.000000   \n",
       "mean               322.376452  ...                38.253874   \n",
       "std               1941.377895  ...               687.462581   \n",
       "min                  0.000000  ...                 0.000000   \n",
       "25%                  0.000000  ...                 0.000000   \n",
       "50%                  0.000000  ...                 0.000000   \n",
       "75%                  1.000000  ...                 2.000000   \n",
       "max             145930.000000  ...             80849.000000   \n",
       "\n",
       "       ola_mES_lif_3_88.counts  ola_mES_lif_3_89.counts  \\\n",
       "count             38653.000000             38653.000000   \n",
       "mean                 65.910537                72.217111   \n",
       "std                1213.745496              1547.943118   \n",
       "min                   0.000000                 0.000000   \n",
       "25%                   0.000000                 0.000000   \n",
       "50%                   0.000000                 0.000000   \n",
       "75%                   4.000000                 2.000000   \n",
       "max              145955.000000            187389.000000   \n",
       "\n",
       "       ola_mES_lif_3_9.counts  ola_mES_lif_3_90.counts  \\\n",
       "count            38653.000000             38653.000000   \n",
       "mean                26.898404                68.519468   \n",
       "std                562.291736              1575.553172   \n",
       "min                  0.000000                 0.000000   \n",
       "25%                  0.000000                 0.000000   \n",
       "50%                  0.000000                 0.000000   \n",
       "75%                  1.000000                 2.000000   \n",
       "max              68635.000000            219839.000000   \n",
       "\n",
       "       ola_mES_lif_3_92.counts  ola_mES_lif_3_94.counts  \\\n",
       "count             38653.000000             38653.000000   \n",
       "mean                145.586837                62.635966   \n",
       "std                5168.652556              1228.023589   \n",
       "min                   0.000000                 0.000000   \n",
       "25%                   0.000000                 0.000000   \n",
       "50%                   0.000000                 0.000000   \n",
       "75%                   0.000000                 5.000000   \n",
       "max              622407.000000            147482.000000   \n",
       "\n",
       "       ola_mES_lif_3_95.counts  ola_mES_lif_3_96.counts  Unnamed: 703  \n",
       "count             38653.000000             38653.000000  38653.000000  \n",
       "mean                 67.288438                62.934339     38.596952  \n",
       "std                1645.763639              1317.051799    724.998934  \n",
       "min                   0.000000                 0.000000      0.000000  \n",
       "25%                   0.000000                 0.000000      0.000000  \n",
       "50%                   0.000000                 0.000000      0.000000  \n",
       "75%                   2.000000                 4.000000      2.000000  \n",
       "max              195757.000000            159166.000000  86913.000000  \n",
       "\n",
       "[8 rows x 704 columns]"
      ]
     },
     "execution_count": 4,
     "metadata": {},
     "output_type": "execute_result"
    }
   ],
   "source": [
    "df.describe()"
   ]
  },
  {
   "cell_type": "code",
   "execution_count": 5,
   "id": "c4d64a15",
   "metadata": {},
   "outputs": [
    {
     "data": {
      "text/plain": [
       "(38653, 704)"
      ]
     },
     "execution_count": 5,
     "metadata": {},
     "output_type": "execute_result"
    }
   ],
   "source": [
    "df.shape"
   ]
  },
  {
   "cell_type": "code",
   "execution_count": 6,
   "id": "9d1a2729",
   "metadata": {},
   "outputs": [],
   "source": [
    "#Change column names to upper case\n",
    "df.columns = df.columns.str.upper()"
   ]
  },
  {
   "cell_type": "code",
   "execution_count": 7,
   "id": "a1b7f295",
   "metadata": {},
   "outputs": [
    {
     "data": {
      "text/plain": [
       "0"
      ]
     },
     "execution_count": 7,
     "metadata": {},
     "output_type": "execute_result"
    }
   ],
   "source": [
    "#Check for missing values\n",
    "#Total Number of Missing NA\n",
    "df.isnull().sum().sum()"
   ]
  },
  {
   "cell_type": "code",
   "execution_count": 8,
   "id": "4999513c",
   "metadata": {},
   "outputs": [],
   "source": [
    "#Replace missing values with the mean\n",
    "df_mean = df.fillna(df.mean())"
   ]
  },
  {
   "cell_type": "code",
   "execution_count": 9,
   "id": "262454ce",
   "metadata": {},
   "outputs": [],
   "source": [
    "#Remove dupplicates\n",
    "df_drop_dup = df.drop_duplicates()"
   ]
  },
  {
   "cell_type": "markdown",
   "id": "fd4570bb",
   "metadata": {},
   "source": [
    "## Splitting Data"
   ]
  },
  {
   "cell_type": "code",
   "execution_count": 10,
   "id": "ffbaf2c8",
   "metadata": {},
   "outputs": [],
   "source": [
    "#Given x-input and y-output\n",
    "# y= df[\"V1\"]\n",
    "# x = df.drop(columns=\"V1\")\n",
    "# x_train, x_test, y_train, y_test = train_test_split(x, y, test_size = 0.2, random_state=42)\n",
    "# x_train2, x_val, y_train2, y_val = train_test_split(x_train, y_train, test_size = 0.2, random_state=42)\n",
    "\n",
    "#Given x-inputs\n",
    "x_train, x_test = train_test_split(df, test_size = 0.2, random_state=42)\n",
    "x_train2, x_val = train_test_split(x_train, test_size = 0.2, random_state=42)"
   ]
  },
  {
   "cell_type": "code",
   "execution_count": 11,
   "id": "ef510404",
   "metadata": {},
   "outputs": [
    {
     "name": "stdout",
     "output_type": "stream",
     "text": [
      "24737\n",
      "7731\n",
      "6185\n"
     ]
    }
   ],
   "source": [
    "print(len(x_train2))\n",
    "print(len(x_test))\n",
    "print(len(x_val))"
   ]
  },
  {
   "cell_type": "markdown",
   "id": "e88cb606",
   "metadata": {},
   "source": [
    "## Scaling"
   ]
  },
  {
   "cell_type": "code",
   "execution_count": 12,
   "id": "5e7bc304",
   "metadata": {},
   "outputs": [],
   "source": [
    "#Using standard scaler\n",
    "scaler = StandardScaler().fit(x_train2)"
   ]
  },
  {
   "cell_type": "code",
   "execution_count": 13,
   "id": "bec49f1d",
   "metadata": {},
   "outputs": [],
   "source": [
    "df_scaled = scaler.transform(x_train2)"
   ]
  },
  {
   "cell_type": "code",
   "execution_count": 14,
   "id": "8374fe23",
   "metadata": {},
   "outputs": [
    {
     "data": {
      "text/plain": [
       "array([[-0.13892971, -0.1401633 , -0.14723415, ..., -0.06211306,\n",
       "        -0.07733632, -0.08477843],\n",
       "       [-0.01901606, -0.05362185, -0.06457578, ..., -0.05547235,\n",
       "        -0.06168649, -0.06451108],\n",
       "       [-0.08221379, -0.1401633 , -0.12414938, ...,  0.24003944,\n",
       "         0.43341739, -0.02144296],\n",
       "       ...,\n",
       "       [ 1.65005232,  0.88697015,  0.33680136, ...,  1.30919446,\n",
       "         1.42362514,  1.64807991],\n",
       "       [-0.13892971, -0.1401633 , -0.14723415, ..., -0.06211306,\n",
       "        -0.07733632, -0.08477843],\n",
       "       [-0.13892971, -0.1401633 , -0.14723415, ..., -0.06211306,\n",
       "        -0.07733632, -0.08477843]])"
      ]
     },
     "execution_count": 14,
     "metadata": {},
     "output_type": "execute_result"
    }
   ],
   "source": [
    "df_scaled"
   ]
  },
  {
   "cell_type": "markdown",
   "id": "3b8802c9",
   "metadata": {},
   "source": [
    "## Transformation"
   ]
  },
  {
   "cell_type": "code",
   "execution_count": 15,
   "id": "67f2bd70",
   "metadata": {},
   "outputs": [],
   "source": [
    "#Using log transformation\n",
    "def log_transform(x):\n",
    "    return np.log(x + 1)\n",
    "\n",
    "df_log = log_transform(df_scaled)"
   ]
  },
  {
   "cell_type": "code",
   "execution_count": 16,
   "id": "2fc55bee",
   "metadata": {},
   "outputs": [
    {
     "data": {
      "text/plain": [
       "array([[-0.14957914, -0.1510128 , -0.15927027, ..., -0.06412587,\n",
       "        -0.08049049, -0.08858909],\n",
       "       [-0.01919919, -0.05511305, -0.06675514, ..., -0.05707032,\n",
       "        -0.06367115, -0.06668597],\n",
       "       [-0.0857908 , -0.1510128 , -0.13255973, ...,  0.21514319,\n",
       "         0.36006138, -0.0216762 ],\n",
       "       ...,\n",
       "       [ 0.97457938,  0.63497245,  0.29027972, ...,  0.83689875,\n",
       "         0.88526441,  0.97383481],\n",
       "       [-0.14957914, -0.1510128 , -0.15927027, ..., -0.06412587,\n",
       "        -0.08049049, -0.08858909],\n",
       "       [-0.14957914, -0.1510128 , -0.15927027, ..., -0.06412587,\n",
       "        -0.08049049, -0.08858909]])"
      ]
     },
     "execution_count": 16,
     "metadata": {},
     "output_type": "execute_result"
    }
   ],
   "source": [
    "df_log"
   ]
  },
  {
   "cell_type": "markdown",
   "id": "8a4f021b",
   "metadata": {},
   "source": [
    "## Dimensionality Reduction"
   ]
  },
  {
   "cell_type": "code",
   "execution_count": 17,
   "id": "1addd49f",
   "metadata": {},
   "outputs": [],
   "source": [
    "#Using PCA\n",
    "DPCA = PCA(n_components=10)\n",
    "df_pca = DPCA.fit_transform(df_log)"
   ]
  },
  {
   "cell_type": "code",
   "execution_count": 18,
   "id": "a3e79628",
   "metadata": {},
   "outputs": [
    {
     "data": {
      "text/plain": [
       "array([[-2.02895422e+00,  6.16940429e-02, -6.58129234e-03, ...,\n",
       "        -2.12114256e-02, -7.45758278e-03,  2.77070806e-02],\n",
       "       [-1.07162235e+00, -2.61180738e-01, -1.33027299e-01, ...,\n",
       "         9.63856367e-02,  8.94138553e-02,  1.47541613e-03],\n",
       "       [ 2.53811810e-01,  8.53004527e-01, -1.15446626e+00, ...,\n",
       "         6.42690213e-02,  3.31746252e-02,  1.23643579e-01],\n",
       "       ...,\n",
       "       [ 1.95281198e+01,  2.42187944e+00, -1.36842945e+00, ...,\n",
       "        -1.32664314e+00,  1.36181467e-02, -1.18206553e+00],\n",
       "       [-1.68002126e+00,  1.52785146e-01,  3.68731379e-01, ...,\n",
       "        -8.17613804e-02,  2.28224840e-02,  1.45717791e-02],\n",
       "       [-2.02902805e+00,  6.17001680e-02, -6.64878843e-03, ...,\n",
       "        -2.11208207e-02, -7.49012850e-03,  2.75886050e-02]])"
      ]
     },
     "execution_count": 18,
     "metadata": {},
     "output_type": "execute_result"
    }
   ],
   "source": [
    "df_pca"
   ]
  },
  {
   "cell_type": "code",
   "execution_count": 19,
   "id": "835c8043",
   "metadata": {},
   "outputs": [
    {
     "data": {
      "text/plain": [
       "Text(0.5, 1.0, 'Principal Component Analysis')"
      ]
     },
     "execution_count": 19,
     "metadata": {},
     "output_type": "execute_result"
    },
    {
     "data": {
      "image/png": "[encoded data removed]",
      "text/plain": [
       "<Figure size 432x288 with 1 Axes>"
      ]
     },
     "metadata": {
      "needs_background": "light"
     },
     "output_type": "display_data"
    }
   ],
   "source": [
    "#Projecting the PCA result\n",
    "plt.scatter(df_pca[:,5], df_pca[:,6])\n",
    "plt.title(\"Principal Component Analysis\")"
   ]
  },
  {
   "cell_type": "code",
   "execution_count": 20,
   "id": "fc3774fa",
   "metadata": {},
   "outputs": [
    {
     "data": {
      "image/png": "[encoded data removed]",
      "text/plain": [
       "<Figure size 432x288 with 1 Axes>"
      ]
     },
     "metadata": {
      "needs_background": "light"
     },
     "output_type": "display_data"
    }
   ],
   "source": [
    "features = range(DPCA.n_components_)\n",
    "plt.bar(features, DPCA.explained_variance_ratio_, color='black')\n",
    "plt.title(\"scRNA\")\n",
    "plt.xlabel('PCA features')\n",
    "plt.ylabel('variance %')\n",
    "plt.xticks(features)\n",
    "plt.show()\n"
   ]
  },
  {
   "cell_type": "code",
   "execution_count": 21,
   "id": "154bc791",
   "metadata": {},
   "outputs": [
    {
     "name": "stderr",
     "output_type": "stream",
     "text": [
      "C:\\Users\\mnnadi1\\.conda\\envs\\yanma\\lib\\site-packages\\sklearn\\manifold\\_t_sne.py:780: FutureWarning: The default initialization in TSNE will change from 'random' to 'pca' in 1.2.\n",
      "  warnings.warn(\n",
      "C:\\Users\\mnnadi1\\.conda\\envs\\yanma\\lib\\site-packages\\sklearn\\manifold\\_t_sne.py:790: FutureWarning: The default learning rate in TSNE will change from 200.0 to 'auto' in 1.2.\n",
      "  warnings.warn(\n"
     ]
    }
   ],
   "source": [
    "#using tSNE\n",
    "#tSNE\n",
    "tsne = TSNE(n_components = 2)\n",
    "dataTSNE = tsne.fit_transform(df_log)"
   ]
  },
  {
   "cell_type": "code",
   "execution_count": 22,
   "id": "a675638c",
   "metadata": {},
   "outputs": [
    {
     "data": {
      "text/plain": [
       "array([[-30.164862, -12.879215],\n",
       "       [ 49.068283,   7.445214],\n",
       "       [ -8.423966, -36.304947],\n",
       "       ...,\n",
       "       [  5.644676, -52.48299 ],\n",
       "       [ 24.307104,  35.19221 ],\n",
       "       [-27.924452,  -2.511671]], dtype=float32)"
      ]
     },
     "execution_count": 22,
     "metadata": {},
     "output_type": "execute_result"
    }
   ],
   "source": [
    "dataTSNE"
   ]
  },
  {
   "cell_type": "code",
   "execution_count": 23,
   "id": "4721b602",
   "metadata": {},
   "outputs": [
    {
     "data": {
      "image/png": "[encoded data removed]",
      "text/plain": [
       "<Figure size 432x288 with 1 Axes>"
      ]
     },
     "metadata": {
      "needs_background": "light"
     },
     "output_type": "display_data"
    }
   ],
   "source": [
    "plt.scatter(dataTSNE[:,0], dataTSNE[:,1])\n",
    "plt.title(\"tSNE\")\n",
    "plt.show()"
   ]
  },
  {
   "cell_type": "code",
   "execution_count": 24,
   "id": "95931b4a",
   "metadata": {},
   "outputs": [],
   "source": [
    "#using UMAP\n",
    "#umap\n",
    "reducer = umap.UMAP()\n",
    "data_UMAP = reducer.fit_transform(df_log)"
   ]
  },
  {
   "cell_type": "code",
   "execution_count": 25,
   "id": "9dcbf90a",
   "metadata": {},
   "outputs": [
    {
     "data": {
      "text/plain": [
       "array([[-13.184534  ,  -1.3311837 ],\n",
       "       [  0.9945692 ,   5.7693405 ],\n",
       "       [ -6.5622177 ,   2.33819   ],\n",
       "       ...,\n",
       "       [ 10.103523  ,   5.6264534 ],\n",
       "       [  0.61249715,   4.984762  ],\n",
       "       [-16.108685  ,  -2.6246574 ]], dtype=float32)"
      ]
     },
     "execution_count": 25,
     "metadata": {},
     "output_type": "execute_result"
    }
   ],
   "source": [
    "data_UMAP"
   ]
  },
  {
   "cell_type": "code",
   "execution_count": 26,
   "id": "68ed7c8b",
   "metadata": {},
   "outputs": [
    {
     "data": {
      "image/png": "[encoded data removed]",
      "text/plain": [
       "<Figure size 432x288 with 1 Axes>"
      ]
     },
     "metadata": {
      "needs_background": "light"
     },
     "output_type": "display_data"
    }
   ],
   "source": [
    "plt.scatter(data_UMAP[:,0], data_UMAP[:,1])\n",
    "plt.title(\"UMAP\")\n",
    "plt.show()"
   ]
  },
  {
   "cell_type": "code",
   "execution_count": null,
   "id": "e0ea628b",
   "metadata": {},
   "outputs": [],
   "source": []
  }
 ],
 "metadata": {
  "kernelspec": {
   "display_name": "Python 3 (ipykernel)",
   "language": "python",
   "name": "python3"
  },
  "language_info": {
   "codemirror_mode": {
    "name": "ipython",
    "version": 3
   },
   "file_extension": ".py",
   "mimetype": "text/x-python",
   "name": "python",
   "nbconvert_exporter": "python",
   "pygments_lexer": "ipython3",
   "version": "3.9.12"
  }
 },
 "nbformat": 4,
 "nbformat_minor": 5
}
