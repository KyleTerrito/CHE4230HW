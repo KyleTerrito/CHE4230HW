{
 "cells": [
  {
   "cell_type": "code",
   "execution_count": null,
   "metadata": {},
   "outputs": [],
   "source": [
    "import pacmap\n",
    "import numpy as np\n",
    "import matplotlib.pyplot as plt\n",
    "\n",
    "# loading preprocessed coil_20 dataset\n",
    "# you can change it with any dataset that is in the ndarray format, with the shape (N, D)\n",
    "# where N is the number of samples and D is the dimension of each sample\n",
    "X = np.load(\"C:\\\\Users\\kterri3\\Documents\\Git Repositories\\hw\\CHE4230HW\\che4230_hw\\Project Stuff\\RawData.xlsx\", allow_pickle=True)\n",
    "#X = X.reshape(X.shape[0], -1)\n",
    "#y = np.load(\"C:\\\\Users\\kterri3\\Documents\\Git Repositories\\hw\\CHE4230HW\\che4230_hw\\Project Stuff\\RawData.xlsx\", allow_pickle=True)\n",
    "\n",
    "# initializing the pacmap instance\n",
    "# Setting n_neighbors to \"None\" leads to a default choice shown below in \"parameter\" section\n",
    "embedding = pacmap.PaCMAP(n_components=2, n_neighbors=None, MN_ratio=0.5, FP_ratio=2.0) \n",
    "\n",
    "# fit the data (The index of transformed data corresponds to the index of the original data)\n",
    "X_transformed = embedding.fit_transform(X, init=\"pca\")\n",
    "\n",
    "# visualize the embedding\n",
    "fig, ax = plt.subplots(1, 1, figsize=(6, 6))\n",
    "ax.scatter(X_transformed[:, 0], X_transformed[:, 1], cmap=\"Spectral\", s=0.6)\n",
    "#c=y"
   ]
  }
 ],
 "metadata": {
  "kernelspec": {
   "display_name": "base",
   "language": "python",
   "name": "python3"
  },
  "language_info": {
   "codemirror_mode": {
    "name": "ipython",
    "version": 3
   },
   "file_extension": ".py",
   "mimetype": "text/x-python",
   "name": "python",
   "nbconvert_exporter": "python",
   "pygments_lexer": "ipython3",
   "version": "3.9.13"
  },
  "orig_nbformat": 4,
  "vscode": {
   "interpreter": {
    "hash": "6b48c8de604285ca86acfb6936ec1940b9dab016195eb3527ee94ac8845a3a0d"
   }
  }
 },
 "nbformat": 4,
 "nbformat_minor": 2
}
