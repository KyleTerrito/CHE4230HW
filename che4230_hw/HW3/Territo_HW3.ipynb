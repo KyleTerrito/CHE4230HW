{
 "cells": [
  {
   "cell_type": "code",
   "execution_count": null,
   "metadata": {},
   "outputs": [],
   "source": [
    "# Practice code for the project"
   ]
  }
 ],
 "metadata": {
  "kernelspec": {
   "display_name": "fastman",
   "language": "python",
   "name": "python3"
  },
  "language_info": {
   "name": "python",
   "version": "3.9.16"
  },
  "orig_nbformat": 4,
  "vscode": {
   "interpreter": {
    "hash": "50aa2bf1d192ae9eef9f245da17eaa9ccd7b85bd114dc6f104b13cb56bb46213"
   }
  }
 },
 "nbformat": 4,
 "nbformat_minor": 2
}
