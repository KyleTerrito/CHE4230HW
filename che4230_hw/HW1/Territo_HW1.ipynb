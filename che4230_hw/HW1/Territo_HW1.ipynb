{
 "cells": [
  {
   "cell_type": "code",
   "execution_count": 1,
   "metadata": {},
   "outputs": [],
   "source": [
    "#2\n",
    "list_a = [3,4,6,10,39,87,12,54]"
   ]
  },
  {
   "cell_type": "code",
   "execution_count": null,
   "metadata": {},
   "outputs": [],
   "source": [
    "#2a\n",
    "max(list_a),min(list_a),sum(list_a)"
   ]
  },
  {
   "cell_type": "code",
   "execution_count": null,
   "metadata": {},
   "outputs": [],
   "source": [
    "#2b\n",
    "sorted(list_a)"
   ]
  },
  {
   "cell_type": "code",
   "execution_count": null,
   "metadata": {},
   "outputs": [],
   "source": [
    "#2c\n",
    "for i in range(len(list_a)):\n",
    "    print(list_a[i])"
   ]
  },
  {
   "cell_type": "code",
   "execution_count": 37,
   "metadata": {},
   "outputs": [],
   "source": [
    "#3a\n",
    "def prime_number(n):\n",
    "    for i in range(2,n):\n",
    "        if (n%i) == 0:\n",
    "            return False\n",
    "        return True"
   ]
  },
  {
   "cell_type": "code",
   "execution_count": null,
   "metadata": {},
   "outputs": [],
   "source": [
    "#3b\n",
    "n = 100\n",
    "for i in range(2,n):\n",
    "    if prime_number(i):\n",
    "        print(i)"
   ]
  },
  {
   "cell_type": "code",
   "execution_count": null,
   "metadata": {},
   "outputs": [],
   "source": [
    "#3c1\n",
    "user_n = int(input('give a number'))\n",
    "\n",
    "print(type(user_n))\n",
    "print(user_n)"
   ]
  },
  {
   "cell_type": "code",
   "execution_count": null,
   "metadata": {},
   "outputs": [],
   "source": [
    "#3c2\n",
    "for i in range(2,user_n):\n",
    "    if prime_number(i):\n",
    "        print(i)"
   ]
  },
  {
   "cell_type": "code",
   "execution_count": null,
   "metadata": {},
   "outputs": [],
   "source": [
    "#3d\n",
    "for i in range(2,1000):\n",
    "    if prime_number(i):\n",
    "        print(i)"
   ]
  },
  {
   "cell_type": "code",
   "execution_count": 5,
   "metadata": {},
   "outputs": [],
   "source": [
    "#4a\n",
    "import numpy as np"
   ]
  },
  {
   "cell_type": "code",
   "execution_count": null,
   "metadata": {},
   "outputs": [],
   "source": [
    "#4b\n",
    "user = int(input('type the number \"10\"'))\n",
    "arrayy = (user,3,3)\n",
    "np.zeros(arrayy)"
   ]
  },
  {
   "cell_type": "code",
   "execution_count": null,
   "metadata": {},
   "outputs": [],
   "source": [
    "#4c\n",
    "random = np.random.randn(5,3,3)\n",
    "print(random)"
   ]
  },
  {
   "cell_type": "code",
   "execution_count": null,
   "metadata": {},
   "outputs": [],
   "source": [
    "#5\n",
    "A = np.matrix([\n",
    "[3, 4, -5],\n",
    "[0, 5, 1],\n",
    "[1, 3, 6]\n",
    "])\n",
    "\n",
    "B = np.matrix([\n",
    "    [10],\n",
    "    [8],\n",
    "    [-5]\n",
    "])\n",
    "\n",
    "X = np.dot(np.linalg.inv(A),B)\n",
    "\n",
    "print(X)"
   ]
  },
  {
   "cell_type": "code",
   "execution_count": 8,
   "metadata": {},
   "outputs": [],
   "source": [
    "import matplotlib.pyplot as plt"
   ]
  },
  {
   "cell_type": "code",
   "execution_count": null,
   "metadata": {},
   "outputs": [],
   "source": [
    "#6\n",
    "x = np.linspace(-5,5,100)\n",
    "y = 0.1*x**3-(x*x)+5\n",
    "\n",
    "fig = plt.figure(figsize = (10, 5))\n",
    "plt.plot(x, y)\n",
    "plt.plot(max(y),marker='o')\n",
    "# plt.plot(min(y),marker='o')\n",
    "# no overall min in this range\n",
    "plt.text(0,0,'maximum')\n",
    "\n",
    "plt.show()"
   ]
  }
 ],
 "metadata": {
  "kernelspec": {
   "display_name": "base",
   "language": "python",
   "name": "python3"
  },
  "language_info": {
   "codemirror_mode": {
    "name": "ipython",
    "version": 3
   },
   "file_extension": ".py",
   "mimetype": "text/x-python",
   "name": "python",
   "nbconvert_exporter": "python",
   "pygments_lexer": "ipython3",
   "version": "3.9.13"
  },
  "orig_nbformat": 4,
  "vscode": {
   "interpreter": {
    "hash": "6b48c8de604285ca86acfb6936ec1940b9dab016195eb3527ee94ac8845a3a0d"
   }
  }
 },
 "nbformat": 4,
 "nbformat_minor": 2
}
